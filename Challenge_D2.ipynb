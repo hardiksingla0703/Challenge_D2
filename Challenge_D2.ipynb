{
  "nbformat": 4,
  "nbformat_minor": 0,
  "metadata": {
    "colab": {
      "provenance": [],
      "authorship_tag": "ABX9TyMhuY95vZzxVUHeOTzW0Eci",
      "include_colab_link": true
    },
    "kernelspec": {
      "name": "python3",
      "display_name": "Python 3"
    },
    "language_info": {
      "name": "python"
    }
  },
  "cells": [
    {
      "cell_type": "markdown",
      "metadata": {
        "id": "view-in-github",
        "colab_type": "text"
      },
      "source": [
        "<a href=\"https://colab.research.google.com/github/hardiksingla0703/Challenge_D2/blob/main/Challenge_D2.ipynb\" target=\"_parent\"><img src=\"https://colab.research.google.com/assets/colab-badge.svg\" alt=\"Open In Colab\"/></a>"
      ]
    },
    {
      "cell_type": "code",
      "execution_count": 7,
      "metadata": {
        "colab": {
          "base_uri": "https://localhost:8080/"
        },
        "id": "xUGCHau5szLc",
        "outputId": "de691aee-6596-47f1-b856-3c9b381cff67"
      },
      "outputs": [
        {
          "output_type": "stream",
          "name": "stdout",
          "text": [
            "['Ram', '1', 'shayam', '2', 'aman', '3']\n",
            "['1', '2', '3', 'Ram', 'aman', 'shayam']\n",
            "[1, 2, 3, 'Ram', 'aman', 'shayam']\n"
          ]
        }
      ],
      "source": [
        "L=[\"Ram\",1,\"shayam\",2,\"aman\",3]\n",
        "L=[str(i) for i in L]\n",
        "print(L)\n",
        "L.sort()\n",
        "print(L)\n",
        "L1=[]\n",
        "for i in L :\n",
        "  try:\n",
        "   L1.append (int(i))\n",
        "  except:\n",
        "   L1.append(i)\n",
        "print(L1)"
      ]
    }
  ]
}